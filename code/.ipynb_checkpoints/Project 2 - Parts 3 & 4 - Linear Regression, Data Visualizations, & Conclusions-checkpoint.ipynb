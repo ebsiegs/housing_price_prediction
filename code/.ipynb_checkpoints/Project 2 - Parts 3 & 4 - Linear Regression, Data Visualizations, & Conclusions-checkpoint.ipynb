{
 "cells": [
  {
   "cell_type": "markdown",
   "id": "b7316d69",
   "metadata": {},
   "source": [
    "<img src=\"http://imgur.com/1ZcRyrc.png\" style=\"float: left; margin: 20px; height: 55px\">\n",
    "\n",
    "# Project 2: Predicting Housing Prices"
   ]
  },
  {
   "cell_type": "markdown",
   "id": "5d83c858",
   "metadata": {},
   "source": [
    "## Contents\n",
    "- [Linear Regression](#Linear-Regression)\n",
    "- [Data Visualization](#Visualize-the-Data)\n",
    "- [Conclusions and Recommendations](#Conclusions-and-Recommendations)"
   ]
  },
  {
   "cell_type": "markdown",
   "id": "58637408",
   "metadata": {},
   "source": [
    "--- \n",
    "# Part 3: Linear Regression\n",
    "\n",
    "--- \n"
   ]
  },
  {
   "cell_type": "markdown",
   "id": "b59f950e",
   "metadata": {},
   "source": [
    "## Review of Linear Regression\n",
    "\n",
    "- Linear regression is a way for us to relate some dependent variable $Y$ to independent variables $X_1$,$\\ldots$,$X_p$.\n",
    "- We might write this out in one of the following two forms:\n",
    "$$\n",
    "\\begin{eqnarray}\n",
    "Y &=& \\beta_0 + \\beta_1X_1 + \\beta_2X_2 + \\cdots + \\beta_pX_p +\\varepsilon\\\\\n",
    "\\mathbf{Y} &=& \\mathbf{X \\beta + \\varepsilon}\n",
    "\\end{eqnarray}\n",
    "$$\n",
    "\n",
    "<details><summary>\n",
    "There are four assumptions to the simple linear regression model and five assumptions to the multiple linear regression model.\n",
    "</summary>\n",
    "1. **Linearity:** $Y$ is linearly related to $X_i$ for all $i$.<br>\n",
    "2. **Independence:** Each residual $\\varepsilon_i$ is independent of $\\varepsilon_j$ for all $i\\neq j$.<br>\n",
    "3. **Normality:** The errors (residuals) follow a Normal distribution with mean 0.<br>\n",
    "4. **Equality of Variance:** The errors (residuals) should have a roughly consistent pattern, regardless of the value of $X_i$. (There should be no discernable relationship between $X_i$ and the residuals.)<br>\n",
    "5. **Independence Part II:** $X_i$ is independent of $X_j$ for all $i\\neq j$.\n",
    "</details>\n",
    "- We can measure the performance of our model by using mean squared error (MSE)."
   ]
  },
  {
   "cell_type": "markdown",
   "id": "bc8e2e04",
   "metadata": {},
   "source": [
    "### Importing Libraries"
   ]
  },
  {
   "cell_type": "code",
   "execution_count": null,
   "id": "637e94cf",
   "metadata": {},
   "outputs": [],
   "source": [
    "import pandas as pd\n",
    "import numpy as np\n",
    "import seaborn as sns\n",
    "import matplotlib.pyplot as plt\n",
    "\n",
    "from sklearn.model_selection import train_test_split, cross_val_score\n",
    "from sklearn.linear_model import LinearRegression\n",
    "from sklearn.preprocessing import StandardScaler, PolynomialFeatures\n",
    "from sklearn import metrics"
   ]
  },
  {
   "cell_type": "markdown",
   "id": "f219997f",
   "metadata": {},
   "source": [
    "### Load the data"
   ]
  },
  {
   "cell_type": "code",
   "execution_count": null,
   "id": "f5846bbd",
   "metadata": {},
   "outputs": [],
   "source": []
  },
  {
   "cell_type": "markdown",
   "id": "6c0f7316",
   "metadata": {},
   "source": [
    "### Create our features matrix (`X`) and target vector (`y`)\n",
    "\n",
    "The following columns will be our features:\n",
    "- `TV`\n",
    "- `radio`\n",
    "- `newspaper`\n",
    "\n",
    "The `sales` column is our label: the column we're trying to predict."
   ]
  },
  {
   "cell_type": "code",
   "execution_count": null,
   "id": "720e112a",
   "metadata": {},
   "outputs": [],
   "source": []
  },
  {
   "cell_type": "markdown",
   "id": "501e64a5",
   "metadata": {},
   "source": [
    "### Linear Regression model"
   ]
  },
  {
   "cell_type": "code",
   "execution_count": null,
   "id": "b4685668",
   "metadata": {},
   "outputs": [],
   "source": []
  },
  {
   "cell_type": "markdown",
   "id": "ba415a75",
   "metadata": {},
   "source": [
    "### Baseline score"
   ]
  },
  {
   "cell_type": "code",
   "execution_count": null,
   "id": "fb9a0906",
   "metadata": {},
   "outputs": [],
   "source": []
  },
  {
   "cell_type": "markdown",
   "id": "9af7c76c",
   "metadata": {},
   "source": []
  },
  {
   "cell_type": "markdown",
   "id": "f3588cf7",
   "metadata": {},
   "source": [
    "## Feature Engineering"
   ]
  },
  {
   "cell_type": "markdown",
   "id": "ed1c5c08",
   "metadata": {},
   "source": [
    "### Correlations"
   ]
  },
  {
   "cell_type": "markdown",
   "id": "fd611d3b",
   "metadata": {},
   "source": [
    "heatmap"
   ]
  },
  {
   "cell_type": "markdown",
   "id": "282a24cc",
   "metadata": {},
   "source": [
    "pairplots"
   ]
  },
  {
   "cell_type": "markdown",
   "id": "4575e572",
   "metadata": {},
   "source": [
    "### Create our features matrix (`X`) and target vector (`y`)\n",
    "\n",
    "Our new column is highly correlated to our label, so let's incorporate it in our features matrix:\n",
    "- `TV`\n",
    "- `radio`\n",
    "- `newspaper`\n",
    "- `TV * radio` interaction term\n",
    "\n",
    "The `sales` column is our label: the column we're trying to predict."
   ]
  },
  {
   "cell_type": "code",
   "execution_count": null,
   "id": "2eaad841",
   "metadata": {},
   "outputs": [],
   "source": []
  },
  {
   "cell_type": "markdown",
   "id": "fccc7de1",
   "metadata": {},
   "source": [
    "### Model evaluation\n",
    "\n",
    "Let's see how much our new feature moves the $R^2$ score."
   ]
  },
  {
   "cell_type": "code",
   "execution_count": null,
   "id": "5f059cfc",
   "metadata": {},
   "outputs": [],
   "source": []
  },
  {
   "cell_type": "markdown",
   "id": "2d186f75",
   "metadata": {},
   "source": [
    "--- \n",
    "# Part 4: Data Visualization & Conclusions\n",
    "\n",
    "--- \n"
   ]
  }
 ],
 "metadata": {
  "kernelspec": {
   "display_name": "Python 3",
   "language": "python",
   "name": "python3"
  },
  "language_info": {
   "codemirror_mode": {
    "name": "ipython",
    "version": 3
   },
   "file_extension": ".py",
   "mimetype": "text/x-python",
   "name": "python",
   "nbconvert_exporter": "python",
   "pygments_lexer": "ipython3",
   "version": "3.8.8"
  }
 },
 "nbformat": 4,
 "nbformat_minor": 5
}
