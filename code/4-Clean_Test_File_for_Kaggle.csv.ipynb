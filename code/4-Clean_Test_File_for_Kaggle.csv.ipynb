{
 "cells": [
  {
   "cell_type": "markdown",
   "id": "9e69d54f",
   "metadata": {},
   "source": [
    "<img src=\"http://imgur.com/1ZcRyrc.png\" style=\"float: left; margin: 20px; height: 55px\">\n",
    "\n",
    "# Project 2: Predicting Housing Prices"
   ]
  },
  {
   "cell_type": "markdown",
   "id": "63f20d1f",
   "metadata": {},
   "source": [
    "--- \n",
    "# Part 4: Clean test.csv\n",
    "\n",
    "--- \n",
    "\n",
    "Don't want to drop ANY rows of test.csv only columns\n",
    "* Fill NaNs with whatever same methods I used on the training data\n",
    "* Add any engineered features and dummified columns if applicable!\n",
    "\n",
    "**Rows should stay the same!**\n",
    "\n",
    "**Columns should match final cleaned trained data**"
   ]
  },
  {
   "cell_type": "markdown",
   "id": "d01b4d56",
   "metadata": {},
   "source": [
    "### Importing Libraries"
   ]
  },
  {
   "cell_type": "code",
   "execution_count": 1,
   "id": "1337b6de",
   "metadata": {},
   "outputs": [],
   "source": [
    "import pandas as pd\n",
    "import numpy as np\n",
    "import seaborn as sns\n",
    "import matplotlib.pyplot as plt\n",
    "import missingno as msno\n",
    "from scipy.stats import norm, skew"
   ]
  },
  {
   "cell_type": "markdown",
   "id": "3c4b6dc4",
   "metadata": {},
   "source": [
    "### Importing the data for this project"
   ]
  },
  {
   "cell_type": "code",
   "execution_count": 2,
   "id": "e9850199",
   "metadata": {},
   "outputs": [],
   "source": [
    "# Cleaned up the test csv in a new notebook by calling it the same df as before\n",
    "ames = pd.read_csv('./datasets/test.csv')"
   ]
  },
  {
   "cell_type": "markdown",
   "id": "2c674d3d",
   "metadata": {},
   "source": [
    "### Display the first 5 rows of the dataframe"
   ]
  },
  {
   "cell_type": "code",
   "execution_count": 3,
   "id": "ba5712cc",
   "metadata": {},
   "outputs": [
    {
     "data": {
      "text/html": [
       "<div>\n",
       "<style scoped>\n",
       "    .dataframe tbody tr th:only-of-type {\n",
       "        vertical-align: middle;\n",
       "    }\n",
       "\n",
       "    .dataframe tbody tr th {\n",
       "        vertical-align: top;\n",
       "    }\n",
       "\n",
       "    .dataframe thead th {\n",
       "        text-align: right;\n",
       "    }\n",
       "</style>\n",
       "<table border=\"1\" class=\"dataframe\">\n",
       "  <thead>\n",
       "    <tr style=\"text-align: right;\">\n",
       "      <th></th>\n",
       "      <th>Id</th>\n",
       "      <th>PID</th>\n",
       "      <th>MS SubClass</th>\n",
       "      <th>MS Zoning</th>\n",
       "      <th>Lot Frontage</th>\n",
       "      <th>Lot Area</th>\n",
       "      <th>Street</th>\n",
       "      <th>Alley</th>\n",
       "      <th>Lot Shape</th>\n",
       "      <th>Land Contour</th>\n",
       "      <th>...</th>\n",
       "      <th>3Ssn Porch</th>\n",
       "      <th>Screen Porch</th>\n",
       "      <th>Pool Area</th>\n",
       "      <th>Pool QC</th>\n",
       "      <th>Fence</th>\n",
       "      <th>Misc Feature</th>\n",
       "      <th>Misc Val</th>\n",
       "      <th>Mo Sold</th>\n",
       "      <th>Yr Sold</th>\n",
       "      <th>Sale Type</th>\n",
       "    </tr>\n",
       "  </thead>\n",
       "  <tbody>\n",
       "    <tr>\n",
       "      <th>0</th>\n",
       "      <td>2658</td>\n",
       "      <td>902301120</td>\n",
       "      <td>190</td>\n",
       "      <td>RM</td>\n",
       "      <td>69.0</td>\n",
       "      <td>9142</td>\n",
       "      <td>Pave</td>\n",
       "      <td>Grvl</td>\n",
       "      <td>Reg</td>\n",
       "      <td>Lvl</td>\n",
       "      <td>...</td>\n",
       "      <td>0</td>\n",
       "      <td>0</td>\n",
       "      <td>0</td>\n",
       "      <td>NaN</td>\n",
       "      <td>NaN</td>\n",
       "      <td>NaN</td>\n",
       "      <td>0</td>\n",
       "      <td>4</td>\n",
       "      <td>2006</td>\n",
       "      <td>WD</td>\n",
       "    </tr>\n",
       "    <tr>\n",
       "      <th>1</th>\n",
       "      <td>2718</td>\n",
       "      <td>905108090</td>\n",
       "      <td>90</td>\n",
       "      <td>RL</td>\n",
       "      <td>NaN</td>\n",
       "      <td>9662</td>\n",
       "      <td>Pave</td>\n",
       "      <td>NaN</td>\n",
       "      <td>IR1</td>\n",
       "      <td>Lvl</td>\n",
       "      <td>...</td>\n",
       "      <td>0</td>\n",
       "      <td>0</td>\n",
       "      <td>0</td>\n",
       "      <td>NaN</td>\n",
       "      <td>NaN</td>\n",
       "      <td>NaN</td>\n",
       "      <td>0</td>\n",
       "      <td>8</td>\n",
       "      <td>2006</td>\n",
       "      <td>WD</td>\n",
       "    </tr>\n",
       "    <tr>\n",
       "      <th>2</th>\n",
       "      <td>2414</td>\n",
       "      <td>528218130</td>\n",
       "      <td>60</td>\n",
       "      <td>RL</td>\n",
       "      <td>58.0</td>\n",
       "      <td>17104</td>\n",
       "      <td>Pave</td>\n",
       "      <td>NaN</td>\n",
       "      <td>IR1</td>\n",
       "      <td>Lvl</td>\n",
       "      <td>...</td>\n",
       "      <td>0</td>\n",
       "      <td>0</td>\n",
       "      <td>0</td>\n",
       "      <td>NaN</td>\n",
       "      <td>NaN</td>\n",
       "      <td>NaN</td>\n",
       "      <td>0</td>\n",
       "      <td>9</td>\n",
       "      <td>2006</td>\n",
       "      <td>New</td>\n",
       "    </tr>\n",
       "    <tr>\n",
       "      <th>3</th>\n",
       "      <td>1989</td>\n",
       "      <td>902207150</td>\n",
       "      <td>30</td>\n",
       "      <td>RM</td>\n",
       "      <td>60.0</td>\n",
       "      <td>8520</td>\n",
       "      <td>Pave</td>\n",
       "      <td>NaN</td>\n",
       "      <td>Reg</td>\n",
       "      <td>Lvl</td>\n",
       "      <td>...</td>\n",
       "      <td>0</td>\n",
       "      <td>0</td>\n",
       "      <td>0</td>\n",
       "      <td>NaN</td>\n",
       "      <td>NaN</td>\n",
       "      <td>NaN</td>\n",
       "      <td>0</td>\n",
       "      <td>7</td>\n",
       "      <td>2007</td>\n",
       "      <td>WD</td>\n",
       "    </tr>\n",
       "    <tr>\n",
       "      <th>4</th>\n",
       "      <td>625</td>\n",
       "      <td>535105100</td>\n",
       "      <td>20</td>\n",
       "      <td>RL</td>\n",
       "      <td>NaN</td>\n",
       "      <td>9500</td>\n",
       "      <td>Pave</td>\n",
       "      <td>NaN</td>\n",
       "      <td>IR1</td>\n",
       "      <td>Lvl</td>\n",
       "      <td>...</td>\n",
       "      <td>0</td>\n",
       "      <td>185</td>\n",
       "      <td>0</td>\n",
       "      <td>NaN</td>\n",
       "      <td>NaN</td>\n",
       "      <td>NaN</td>\n",
       "      <td>0</td>\n",
       "      <td>7</td>\n",
       "      <td>2009</td>\n",
       "      <td>WD</td>\n",
       "    </tr>\n",
       "  </tbody>\n",
       "</table>\n",
       "<p>5 rows × 80 columns</p>\n",
       "</div>"
      ],
      "text/plain": [
       "     Id        PID  MS SubClass MS Zoning  Lot Frontage  Lot Area Street  \\\n",
       "0  2658  902301120          190        RM          69.0      9142   Pave   \n",
       "1  2718  905108090           90        RL           NaN      9662   Pave   \n",
       "2  2414  528218130           60        RL          58.0     17104   Pave   \n",
       "3  1989  902207150           30        RM          60.0      8520   Pave   \n",
       "4   625  535105100           20        RL           NaN      9500   Pave   \n",
       "\n",
       "  Alley Lot Shape Land Contour  ... 3Ssn Porch Screen Porch Pool Area Pool QC  \\\n",
       "0  Grvl       Reg          Lvl  ...          0            0         0     NaN   \n",
       "1   NaN       IR1          Lvl  ...          0            0         0     NaN   \n",
       "2   NaN       IR1          Lvl  ...          0            0         0     NaN   \n",
       "3   NaN       Reg          Lvl  ...          0            0         0     NaN   \n",
       "4   NaN       IR1          Lvl  ...          0          185         0     NaN   \n",
       "\n",
       "  Fence Misc Feature Misc Val Mo Sold  Yr Sold  Sale Type  \n",
       "0   NaN          NaN        0       4     2006        WD   \n",
       "1   NaN          NaN        0       8     2006        WD   \n",
       "2   NaN          NaN        0       9     2006        New  \n",
       "3   NaN          NaN        0       7     2007        WD   \n",
       "4   NaN          NaN        0       7     2009        WD   \n",
       "\n",
       "[5 rows x 80 columns]"
      ]
     },
     "execution_count": 3,
     "metadata": {},
     "output_type": "execute_result"
    }
   ],
   "source": [
    "ames.head()"
   ]
  },
  {
   "cell_type": "markdown",
   "id": "8447338b",
   "metadata": {},
   "source": [
    "### Checking # of Rows and Columns"
   ]
  },
  {
   "cell_type": "code",
   "execution_count": 4,
   "id": "adaae2ba",
   "metadata": {},
   "outputs": [
    {
     "data": {
      "text/plain": [
       "(878, 80)"
      ]
     },
     "execution_count": 4,
     "metadata": {},
     "output_type": "execute_result"
    }
   ],
   "source": [
    "ames.shape"
   ]
  },
  {
   "cell_type": "code",
   "execution_count": 5,
   "id": "93f22a60",
   "metadata": {
    "scrolled": false
   },
   "outputs": [],
   "source": [
    "#creating a df with just the categorical columns\n",
    "categorical_df = ames.select_dtypes(include=['object'])"
   ]
  },
  {
   "cell_type": "code",
   "execution_count": 6,
   "id": "2a7eea04",
   "metadata": {
    "scrolled": true
   },
   "outputs": [],
   "source": [
    "#creating a df with just the numeric columns\n",
    "numeric_df =ames.select_dtypes(exclude=['object'])"
   ]
  },
  {
   "cell_type": "markdown",
   "id": "6bfaff2f",
   "metadata": {},
   "source": [
    "### Fixing some data types."
   ]
  },
  {
   "cell_type": "markdown",
   "id": "b37945da",
   "metadata": {},
   "source": [
    "#### Numeric to Categorical"
   ]
  },
  {
   "cell_type": "code",
   "execution_count": 7,
   "id": "fb2d8e6d",
   "metadata": {},
   "outputs": [],
   "source": [
    "# #MS SubClass (building class)\n",
    "# all_data['MS SubClass'] = all_data['MS SubClass'].apply(str)\n",
    "\n",
    "# #Overall Cond (1-10 but it's really categorical)\n",
    "# all_data['Overall Cond'] = all_data['Overall Cond'].astype(str)\n",
    "\n",
    "# #Overall Qual (1-10 but it's really categorical)\n",
    "# all_data['Overall Qual'] = all_data['Overall Qual'].astype(str)\n",
    "\n",
    "# #Year and month sold should be str and then dummified\n",
    "# all_data['Yr Sold'] = all_data['Yr Sold'].astype(str)\n",
    "# all_data['Mo Sold'] = all_data['Mo Sold'].astype(str)"
   ]
  },
  {
   "cell_type": "markdown",
   "id": "fe98127b",
   "metadata": {},
   "source": [
    "#### Objects to Numeric"
   ]
  },
  {
   "cell_type": "code",
   "execution_count": 8,
   "id": "e68b1972",
   "metadata": {},
   "outputs": [],
   "source": [
    "# cols = ('FireplaceQu', 'BsmtQual', 'BsmtCond', 'GarageQual', 'GarageCond', \n",
    "#         'ExterQual', 'ExterCond','HeatingQC', 'PoolQC', 'KitchenQual', 'BsmtFinType1', \n",
    "#         'BsmtFinType2', 'Functional', 'Fence', 'BsmtExposure', 'GarageFinish', 'LandSlope',\n",
    "#         'LotShape', 'PavedDrive', 'Street', 'Alley', 'CentralAir', 'MSSubClass', 'OverallCond', \n",
    "#         'YrSold', 'MoSold')"
   ]
  },
  {
   "cell_type": "code",
   "execution_count": null,
   "id": "66418c87",
   "metadata": {},
   "outputs": [],
   "source": []
  },
  {
   "cell_type": "code",
   "execution_count": null,
   "id": "a5dfa066",
   "metadata": {},
   "outputs": [],
   "source": []
  },
  {
   "cell_type": "markdown",
   "id": "39921667",
   "metadata": {},
   "source": [
    "### Drop Unnecessary Rows and Columns and Fill Missing Data If Applicable"
   ]
  },
  {
   "cell_type": "code",
   "execution_count": 9,
   "id": "02cc9315",
   "metadata": {},
   "outputs": [],
   "source": [
    "#Drop PID columns from each\n",
    "ames.drop('PID', axis = 1, inplace = True)"
   ]
  },
  {
   "cell_type": "code",
   "execution_count": 10,
   "id": "7ed6ab22",
   "metadata": {},
   "outputs": [
    {
     "data": {
      "text/html": [
       "<div>\n",
       "<style scoped>\n",
       "    .dataframe tbody tr th:only-of-type {\n",
       "        vertical-align: middle;\n",
       "    }\n",
       "\n",
       "    .dataframe tbody tr th {\n",
       "        vertical-align: top;\n",
       "    }\n",
       "\n",
       "    .dataframe thead th {\n",
       "        text-align: right;\n",
       "    }\n",
       "</style>\n",
       "<table border=\"1\" class=\"dataframe\">\n",
       "  <thead>\n",
       "    <tr style=\"text-align: right;\">\n",
       "      <th></th>\n",
       "      <th>Id</th>\n",
       "      <th>MS SubClass</th>\n",
       "      <th>MS Zoning</th>\n",
       "      <th>Lot Frontage</th>\n",
       "      <th>Lot Area</th>\n",
       "      <th>Street</th>\n",
       "      <th>Alley</th>\n",
       "      <th>Lot Shape</th>\n",
       "      <th>Land Contour</th>\n",
       "      <th>Utilities</th>\n",
       "      <th>...</th>\n",
       "      <th>3Ssn Porch</th>\n",
       "      <th>Screen Porch</th>\n",
       "      <th>Pool Area</th>\n",
       "      <th>Pool QC</th>\n",
       "      <th>Fence</th>\n",
       "      <th>Misc Feature</th>\n",
       "      <th>Misc Val</th>\n",
       "      <th>Mo Sold</th>\n",
       "      <th>Yr Sold</th>\n",
       "      <th>Sale Type</th>\n",
       "    </tr>\n",
       "  </thead>\n",
       "  <tbody>\n",
       "    <tr>\n",
       "      <th>0</th>\n",
       "      <td>2658</td>\n",
       "      <td>190</td>\n",
       "      <td>RM</td>\n",
       "      <td>69.0</td>\n",
       "      <td>9142</td>\n",
       "      <td>Pave</td>\n",
       "      <td>Grvl</td>\n",
       "      <td>Reg</td>\n",
       "      <td>Lvl</td>\n",
       "      <td>AllPub</td>\n",
       "      <td>...</td>\n",
       "      <td>0</td>\n",
       "      <td>0</td>\n",
       "      <td>0</td>\n",
       "      <td>None</td>\n",
       "      <td>None</td>\n",
       "      <td>None</td>\n",
       "      <td>0</td>\n",
       "      <td>4</td>\n",
       "      <td>2006</td>\n",
       "      <td>WD</td>\n",
       "    </tr>\n",
       "    <tr>\n",
       "      <th>1</th>\n",
       "      <td>2718</td>\n",
       "      <td>90</td>\n",
       "      <td>RL</td>\n",
       "      <td>NaN</td>\n",
       "      <td>9662</td>\n",
       "      <td>Pave</td>\n",
       "      <td>None</td>\n",
       "      <td>IR1</td>\n",
       "      <td>Lvl</td>\n",
       "      <td>AllPub</td>\n",
       "      <td>...</td>\n",
       "      <td>0</td>\n",
       "      <td>0</td>\n",
       "      <td>0</td>\n",
       "      <td>None</td>\n",
       "      <td>None</td>\n",
       "      <td>None</td>\n",
       "      <td>0</td>\n",
       "      <td>8</td>\n",
       "      <td>2006</td>\n",
       "      <td>WD</td>\n",
       "    </tr>\n",
       "  </tbody>\n",
       "</table>\n",
       "<p>2 rows × 79 columns</p>\n",
       "</div>"
      ],
      "text/plain": [
       "     Id  MS SubClass MS Zoning  Lot Frontage  Lot Area Street Alley Lot Shape  \\\n",
       "0  2658          190        RM          69.0      9142   Pave  Grvl       Reg   \n",
       "1  2718           90        RL           NaN      9662   Pave  None       IR1   \n",
       "\n",
       "  Land Contour Utilities  ... 3Ssn Porch Screen Porch Pool Area Pool QC Fence  \\\n",
       "0          Lvl    AllPub  ...          0            0         0    None  None   \n",
       "1          Lvl    AllPub  ...          0            0         0    None  None   \n",
       "\n",
       "  Misc Feature Misc Val  Mo Sold  Yr Sold  Sale Type  \n",
       "0         None        0        4     2006        WD   \n",
       "1         None        0        8     2006        WD   \n",
       "\n",
       "[2 rows x 79 columns]"
      ]
     },
     "execution_count": 10,
     "metadata": {},
     "output_type": "execute_result"
    }
   ],
   "source": [
    "# Fill the NaNs in 'Alley','Fireplace Qu','Pool QC','Fence' columns with None\n",
    "fill_columns = ['Alley','Fireplace Qu','Pool QC','Fence','Misc Feature']\n",
    "ames[fill_columns]= ames[fill_columns].fillna('None')\n",
    "ames.head(2)"
   ]
  },
  {
   "cell_type": "code",
   "execution_count": 11,
   "id": "0b50c80c",
   "metadata": {},
   "outputs": [],
   "source": [
    "#Drop column(s) missing majority of data where None isn't meaningful to use\n",
    "#Drop Misc Feature and therefore drop Misc Val since it pertains to other Misc column\n",
    "# ames = ames.drop(['Misc Feature', 'Misc Val'],axis=1)\n",
    "# ames.head(2)"
   ]
  },
  {
   "cell_type": "code",
   "execution_count": 12,
   "id": "95c9bb7b",
   "metadata": {},
   "outputs": [
    {
     "data": {
      "text/plain": [
       "Exter Cond          0\n",
       "Exter Qual          0\n",
       "Year Built          0\n",
       "Exterior 2nd        0\n",
       "Exterior 1st        0\n",
       "Sale Type           0\n",
       "Roof Style          0\n",
       "Roof Matl           0\n",
       "Mas Vnr Area        1\n",
       "Electrical          1\n",
       "Mas Vnr Type        1\n",
       "BsmtFin Type 2     25\n",
       "Bsmt Qual          25\n",
       "Bsmt Cond          25\n",
       "Bsmt Exposure      25\n",
       "BsmtFin Type 1     25\n",
       "Garage Type        44\n",
       "Garage Qual        45\n",
       "Garage Cond        45\n",
       "Garage Finish      45\n",
       "Garage Yr Blt      45\n",
       "Lot Frontage      160\n",
       "dtype: int64"
      ]
     },
     "execution_count": 12,
     "metadata": {},
     "output_type": "execute_result"
    }
   ],
   "source": [
    "ames.isnull().sum().sort_values().tail(22)"
   ]
  },
  {
   "cell_type": "code",
   "execution_count": 13,
   "id": "07dd9027",
   "metadata": {},
   "outputs": [],
   "source": [
    "# Fill the NaNs in categorical Bsmt columns with 'None' as NA is missing when you look at value counts\n",
    "fill_columns = ['Bsmt Qual','Bsmt Cond','Bsmt Exposure','BsmtFin Type 1','BsmtFin Type 2']\n",
    "ames[fill_columns]= ames[fill_columns].fillna('None')"
   ]
  },
  {
   "cell_type": "code",
   "execution_count": 14,
   "id": "a73f3018",
   "metadata": {},
   "outputs": [
    {
     "data": {
      "text/plain": [
       "Exter Cond         0\n",
       "Foundation         0\n",
       "Exterior 2nd       0\n",
       "Exterior 1st       0\n",
       "Roof Matl          0\n",
       "Roof Style         0\n",
       "Exter Qual         0\n",
       "Sale Type          0\n",
       "Mas Vnr Area       1\n",
       "Mas Vnr Type       1\n",
       "Electrical         1\n",
       "Garage Yr Blt     45\n",
       "Lot Frontage     160\n",
       "dtype: int64"
      ]
     },
     "execution_count": 14,
     "metadata": {},
     "output_type": "execute_result"
    }
   ],
   "source": [
    "# Fill the NaNs in categorical Garage columns with 'None' as NA is missing when you look at value counts\n",
    "fill_columns = ['Garage Type','Garage Finish','Garage Qual','Garage Cond']\n",
    "ames[fill_columns]= ames[fill_columns].fillna('None')\n",
    "ames.isnull().sum().sort_values().tail(13)"
   ]
  },
  {
   "cell_type": "code",
   "execution_count": 15,
   "id": "4f519b55",
   "metadata": {},
   "outputs": [
    {
     "data": {
      "text/html": [
       "<div>\n",
       "<style scoped>\n",
       "    .dataframe tbody tr th:only-of-type {\n",
       "        vertical-align: middle;\n",
       "    }\n",
       "\n",
       "    .dataframe tbody tr th {\n",
       "        vertical-align: top;\n",
       "    }\n",
       "\n",
       "    .dataframe thead th {\n",
       "        text-align: right;\n",
       "    }\n",
       "</style>\n",
       "<table border=\"1\" class=\"dataframe\">\n",
       "  <thead>\n",
       "    <tr style=\"text-align: right;\">\n",
       "      <th></th>\n",
       "      <th>Id</th>\n",
       "      <th>MS SubClass</th>\n",
       "      <th>MS Zoning</th>\n",
       "      <th>Lot Frontage</th>\n",
       "      <th>Lot Area</th>\n",
       "      <th>Street</th>\n",
       "      <th>Alley</th>\n",
       "      <th>Lot Shape</th>\n",
       "      <th>Land Contour</th>\n",
       "      <th>Utilities</th>\n",
       "      <th>...</th>\n",
       "      <th>3Ssn Porch</th>\n",
       "      <th>Screen Porch</th>\n",
       "      <th>Pool Area</th>\n",
       "      <th>Pool QC</th>\n",
       "      <th>Fence</th>\n",
       "      <th>Misc Feature</th>\n",
       "      <th>Misc Val</th>\n",
       "      <th>Mo Sold</th>\n",
       "      <th>Yr Sold</th>\n",
       "      <th>Sale Type</th>\n",
       "    </tr>\n",
       "  </thead>\n",
       "  <tbody>\n",
       "    <tr>\n",
       "      <th>0</th>\n",
       "      <td>2658</td>\n",
       "      <td>190</td>\n",
       "      <td>RM</td>\n",
       "      <td>69.0</td>\n",
       "      <td>9142</td>\n",
       "      <td>Pave</td>\n",
       "      <td>Grvl</td>\n",
       "      <td>Reg</td>\n",
       "      <td>Lvl</td>\n",
       "      <td>AllPub</td>\n",
       "      <td>...</td>\n",
       "      <td>0</td>\n",
       "      <td>0</td>\n",
       "      <td>0</td>\n",
       "      <td>None</td>\n",
       "      <td>None</td>\n",
       "      <td>None</td>\n",
       "      <td>0</td>\n",
       "      <td>4</td>\n",
       "      <td>2006</td>\n",
       "      <td>WD</td>\n",
       "    </tr>\n",
       "    <tr>\n",
       "      <th>1</th>\n",
       "      <td>2718</td>\n",
       "      <td>90</td>\n",
       "      <td>RL</td>\n",
       "      <td>NaN</td>\n",
       "      <td>9662</td>\n",
       "      <td>Pave</td>\n",
       "      <td>None</td>\n",
       "      <td>IR1</td>\n",
       "      <td>Lvl</td>\n",
       "      <td>AllPub</td>\n",
       "      <td>...</td>\n",
       "      <td>0</td>\n",
       "      <td>0</td>\n",
       "      <td>0</td>\n",
       "      <td>None</td>\n",
       "      <td>None</td>\n",
       "      <td>None</td>\n",
       "      <td>0</td>\n",
       "      <td>8</td>\n",
       "      <td>2006</td>\n",
       "      <td>WD</td>\n",
       "    </tr>\n",
       "  </tbody>\n",
       "</table>\n",
       "<p>2 rows × 79 columns</p>\n",
       "</div>"
      ],
      "text/plain": [
       "     Id  MS SubClass MS Zoning  Lot Frontage  Lot Area Street Alley Lot Shape  \\\n",
       "0  2658          190        RM          69.0      9142   Pave  Grvl       Reg   \n",
       "1  2718           90        RL           NaN      9662   Pave  None       IR1   \n",
       "\n",
       "  Land Contour Utilities  ... 3Ssn Porch Screen Porch Pool Area Pool QC Fence  \\\n",
       "0          Lvl    AllPub  ...          0            0         0    None  None   \n",
       "1          Lvl    AllPub  ...          0            0         0    None  None   \n",
       "\n",
       "  Misc Feature Misc Val  Mo Sold  Yr Sold  Sale Type  \n",
       "0         None        0        4     2006        WD   \n",
       "1         None        0        8     2006        WD   \n",
       "\n",
       "[2 rows x 79 columns]"
      ]
     },
     "execution_count": 15,
     "metadata": {},
     "output_type": "execute_result"
    }
   ],
   "source": [
    "#Drop Mas Vnr Type and Mas Vnr Area columns - These are Masonry veneer type & area which are not usually important to sale\n",
    "#ames = ames.drop(['Mas Vnr Type', 'Mas Vnr Area'],axis=1)\n",
    "\n",
    "\n",
    "#Maybe will drop these two columns eventually but for now we can just fill with None for NaN\n",
    "fill_columns = ['Mas Vnr Type', 'Mas Vnr Area']\n",
    "ames[fill_columns]= ames[fill_columns].fillna('None')\n",
    "ames.head(2)"
   ]
  },
  {
   "cell_type": "code",
   "execution_count": 16,
   "id": "e2945bb9",
   "metadata": {},
   "outputs": [],
   "source": [
    "# Replacing missing data for Garage Yr Blt, Garage Area and Garage Cars with 0 since no garage means 0 area and cars\n",
    "fill_columns = ['Garage Yr Blt','Garage Area','Garage Cars']\n",
    "ames[fill_columns] = ames[fill_columns].fillna(0)"
   ]
  },
  {
   "cell_type": "code",
   "execution_count": 17,
   "id": "b6466925",
   "metadata": {},
   "outputs": [],
   "source": [
    "#Fill NaNs for Lot Frontage with the median Lot Frontage of that neighborhood.\n",
    "ames[\"Lot Frontage\"] = ames.groupby(\"Neighborhood\")[\"Lot Frontage\"].transform(lambda x: x.fillna(x.median()))"
   ]
  },
  {
   "cell_type": "code",
   "execution_count": 18,
   "id": "4cae3346",
   "metadata": {},
   "outputs": [
    {
     "data": {
      "text/plain": [
       "Total Bsmt SF    0\n",
       "Foundation       0\n",
       "Exter Qual       0\n",
       "Mas Vnr Area     0\n",
       "Mas Vnr Type     0\n",
       "Exterior 2nd     0\n",
       "Exterior 1st     0\n",
       "Roof Matl        0\n",
       "Roof Style       0\n",
       "Exter Cond       0\n",
       "Sale Type        0\n",
       "Electrical       1\n",
       "dtype: int64"
      ]
     },
     "execution_count": 18,
     "metadata": {},
     "output_type": "execute_result"
    }
   ],
   "source": [
    "ames.isnull().sum().sort_values().tail(12)"
   ]
  },
  {
   "cell_type": "code",
   "execution_count": 19,
   "id": "c8c55be1",
   "metadata": {},
   "outputs": [
    {
     "data": {
      "text/plain": [
       "Sale Type     0\n",
       "Electrical    1\n",
       "dtype: int64"
      ]
     },
     "execution_count": 19,
     "metadata": {},
     "output_type": "execute_result"
    }
   ],
   "source": [
    "# Fill rest of the Lot Frontage and Bsmt columns with 0 since they're numeric and probably don't have a basement \n",
    "# and might not have lot frontage in those neighborhoods\n",
    "fill_columns = ['Lot Frontage','BsmtFin SF 2', 'BsmtFin SF 1', 'Bsmt Unf SF', 'Total Bsmt SF', 'Bsmt Half Bath', 'Bsmt Full Bath']\n",
    "ames[fill_columns] = ames[fill_columns].fillna(0)\n",
    "ames.isnull().sum().sort_values().tail(2)"
   ]
  },
  {
   "cell_type": "code",
   "execution_count": 20,
   "id": "b44fc78f",
   "metadata": {},
   "outputs": [
    {
     "data": {
      "text/plain": [
       "(878, 79)"
      ]
     },
     "execution_count": 20,
     "metadata": {},
     "output_type": "execute_result"
    }
   ],
   "source": [
    "# Checking I still have 878 rows\n",
    "ames.shape"
   ]
  },
  {
   "cell_type": "markdown",
   "id": "399fc832",
   "metadata": {},
   "source": [
    "### Drop Columns that have Low Variation in Box Plots\n",
    "Street, Utilities, Condition 2, Roof Matl, Heating, Electrical\n",
    "\n",
    "Exterior 1st, Bsmt Qual, Garage Qual??"
   ]
  },
  {
   "cell_type": "code",
   "execution_count": 21,
   "id": "3d140ec7",
   "metadata": {},
   "outputs": [
    {
     "data": {
      "text/plain": [
       "(878, 79)"
      ]
     },
     "execution_count": 21,
     "metadata": {},
     "output_type": "execute_result"
    }
   ],
   "source": [
    "ames.shape"
   ]
  },
  {
   "cell_type": "code",
   "execution_count": 22,
   "id": "2b134991",
   "metadata": {},
   "outputs": [
    {
     "data": {
      "text/plain": [
       "(878, 73)"
      ]
     },
     "execution_count": 22,
     "metadata": {},
     "output_type": "execute_result"
    }
   ],
   "source": [
    "ames = ames.drop(['Electrical','Heating','Roof Matl','Condition 2','Utilities','Street'],axis=1)\n",
    "ames.shape"
   ]
  },
  {
   "cell_type": "markdown",
   "id": "71ef7dea",
   "metadata": {},
   "source": [
    "## Feature Engineering"
   ]
  },
  {
   "cell_type": "code",
   "execution_count": 23,
   "id": "3c870798",
   "metadata": {},
   "outputs": [
    {
     "data": {
      "text/plain": [
       "count    878.000000\n",
       "mean      37.333713\n",
       "std       30.469253\n",
       "min        0.000000\n",
       "25%        8.250000\n",
       "50%       36.000000\n",
       "75%       54.750000\n",
       "max      129.000000\n",
       "Name: House Age, dtype: float64"
      ]
     },
     "execution_count": 23,
     "metadata": {},
     "output_type": "execute_result"
    }
   ],
   "source": [
    "#Create new column of the House Age\n",
    "ames['House Age']= (ames['Yr Sold']- ames['Year Built'])\n",
    "ames['House Age'].describe()"
   ]
  },
  {
   "cell_type": "code",
   "execution_count": 24,
   "id": "61308815",
   "metadata": {},
   "outputs": [
    {
     "data": {
      "text/plain": [
       "count     878.000000\n",
       "mean     2528.543280\n",
       "std       772.173406\n",
       "min       720.000000\n",
       "25%      1968.000000\n",
       "50%      2431.500000\n",
       "75%      2974.750000\n",
       "max      6872.000000\n",
       "Name: Total SF, dtype: float64"
      ]
     },
     "execution_count": 24,
     "metadata": {},
     "output_type": "execute_result"
    }
   ],
   "source": [
    "# Create Total SF (total house square footage) column as this is usually a key metric for house sales\n",
    "ames['Total SF'] = ames['Total Bsmt SF'] + ames['1st Flr SF'] + ames['2nd Flr SF']\n",
    "ames['Total SF'].describe()"
   ]
  },
  {
   "cell_type": "code",
   "execution_count": 25,
   "id": "0267eb95",
   "metadata": {},
   "outputs": [
    {
     "data": {
      "text/plain": [
       "count    878.000000\n",
       "mean       2.433941\n",
       "std        0.936811\n",
       "min        1.000000\n",
       "25%        2.000000\n",
       "50%        2.000000\n",
       "75%        3.000000\n",
       "max        8.000000\n",
       "Name: Total Bath, dtype: float64"
      ]
     },
     "execution_count": 25,
     "metadata": {},
     "output_type": "execute_result"
    }
   ],
   "source": [
    "# Create Total Bath column as this is usually a key metric for house sales\n",
    "ames['Total Bath'] = ames['Full Bath'] + ames['Half Bath'] + ames['Bsmt Full Bath']+ ames['Bsmt Half Bath']\n",
    "ames['Total Bath'].describe()"
   ]
  },
  {
   "cell_type": "code",
   "execution_count": 26,
   "id": "1ea59772",
   "metadata": {},
   "outputs": [
    {
     "data": {
      "text/plain": [
       "count     878.000000\n",
       "mean       88.563781\n",
       "std       112.496111\n",
       "min         0.000000\n",
       "25%         0.000000\n",
       "50%        50.000000\n",
       "75%       131.750000\n",
       "max      1207.000000\n",
       "Name: Porch, dtype: float64"
      ]
     },
     "execution_count": 26,
     "metadata": {},
     "output_type": "execute_result"
    }
   ],
   "source": [
    "#Create Total Porch SF\n",
    "ames['Porch'] = ames['Open Porch SF'] + ames['Enclosed Porch']+ ames['3Ssn Porch']+ ames['Screen Porch']\n",
    "ames['Porch'].describe()"
   ]
  },
  {
   "cell_type": "code",
   "execution_count": 27,
   "id": "cb89f21b",
   "metadata": {},
   "outputs": [],
   "source": [
    "# Drop any columns used to make new features as this can cause data leakage\n",
    "ames = ames.drop(['Full Bath', 'Half Bath', 'Bsmt Full Bath', 'Bsmt Half Bath', 'Total Bsmt SF', '1st Flr SF',\n",
    "                   '2nd Flr SF','Yr Sold','Year Built','Open Porch SF','Enclosed Porch','3Ssn Porch','Screen Porch'],axis=1)"
   ]
  },
  {
   "cell_type": "markdown",
   "id": "ee05eb9f",
   "metadata": {},
   "source": [
    "### Drop columns that had categories that didn't match the test.csv data\n",
    "When we dummified these it did not create them in the test data when we were running through the same cleaning/feature engineering steps"
   ]
  },
  {
   "cell_type": "code",
   "execution_count": 28,
   "id": "d5e9a792",
   "metadata": {},
   "outputs": [
    {
     "data": {
      "text/plain": [
       "Index(['Id', 'MS SubClass', 'MS Zoning', 'Lot Frontage', 'Lot Area', 'Alley',\n",
       "       'Lot Shape', 'Land Contour', 'Lot Config', 'Land Slope', 'Neighborhood',\n",
       "       'Condition 1', 'Bldg Type', 'House Style', 'Overall Qual',\n",
       "       'Overall Cond', 'Year Remod/Add', 'Roof Style', 'Exterior 1st',\n",
       "       'Exterior 2nd', 'Mas Vnr Type', 'Mas Vnr Area', 'Exter Qual',\n",
       "       'Exter Cond', 'Foundation', 'Bsmt Qual', 'Bsmt Cond', 'Bsmt Exposure',\n",
       "       'BsmtFin Type 1', 'BsmtFin SF 1', 'BsmtFin Type 2', 'BsmtFin SF 2',\n",
       "       'Bsmt Unf SF', 'Heating QC', 'Central Air', 'Low Qual Fin SF',\n",
       "       'Gr Liv Area', 'Bedroom AbvGr', 'Kitchen AbvGr', 'Kitchen Qual',\n",
       "       'TotRms AbvGrd', 'Functional', 'Fireplaces', 'Fireplace Qu',\n",
       "       'Garage Type', 'Garage Yr Blt', 'Garage Finish', 'Garage Cars',\n",
       "       'Garage Area', 'Garage Qual', 'Garage Cond', 'Paved Drive',\n",
       "       'Wood Deck SF', 'Pool Area', 'Pool QC', 'Fence', 'Misc Feature',\n",
       "       'Misc Val', 'Mo Sold', 'Sale Type', 'House Age', 'Total SF',\n",
       "       'Total Bath', 'Porch'],\n",
       "      dtype='object')"
      ]
     },
     "execution_count": 28,
     "metadata": {},
     "output_type": "execute_result"
    }
   ],
   "source": [
    "ames.columns"
   ]
  },
  {
   "cell_type": "code",
   "execution_count": 29,
   "id": "2748e875",
   "metadata": {},
   "outputs": [
    {
     "data": {
      "text/plain": [
       "(878, 52)"
      ]
     },
     "execution_count": 29,
     "metadata": {},
     "output_type": "execute_result"
    }
   ],
   "source": [
    "ames = ames.drop(['Bsmt Cond', 'Exterior 1st', 'Exterior 2nd', 'Functional', 'Garage Qual', 'Heating QC', 'Mas Vnr Area', \n",
    "                  'Misc Feature', 'MS Zoning', 'Pool QC', 'Sale Type', 'Mas Vnr Type'],axis=1)\n",
    "ames.shape"
   ]
  },
  {
   "cell_type": "code",
   "execution_count": 30,
   "id": "0ec4dd50",
   "metadata": {},
   "outputs": [
    {
     "data": {
      "text/plain": [
       "array(['OldTown', 'Sawyer', 'Gilbert', 'NAmes', 'MeadowV', 'CollgCr',\n",
       "       'Somerst', 'Mitchel', 'SawyerW', 'IDOTRR', 'BrkSide', 'Edwards',\n",
       "       'ClearCr', 'NWAmes', 'Timber', 'NoRidge', 'NridgHt', 'Crawfor',\n",
       "       'StoneBr', 'Veenker', 'BrDale', 'SWISU', 'Blmngtn', 'NPkVill',\n",
       "       'Greens', 'Blueste'], dtype=object)"
      ]
     },
     "execution_count": 30,
     "metadata": {},
     "output_type": "execute_result"
    }
   ],
   "source": [
    "# Make sure 2 neighborhoods are not in the test dataset: 'GrnHill' & 'Landmrk'\n",
    "ames['Neighborhood'].unique()"
   ]
  },
  {
   "cell_type": "code",
   "execution_count": 31,
   "id": "5948d257",
   "metadata": {},
   "outputs": [],
   "source": [
    "# Either replace 'VWD' as this is not in the train dataset or drop the whole column\n",
    "#ames['Sale Type'].value_counts()"
   ]
  },
  {
   "cell_type": "code",
   "execution_count": 32,
   "id": "21b23ad6",
   "metadata": {},
   "outputs": [],
   "source": [
    "ames = ames.drop(ames[(ames['Kitchen Qual'] == 'Po')].index)"
   ]
  },
  {
   "cell_type": "code",
   "execution_count": 33,
   "id": "926b3ed6",
   "metadata": {},
   "outputs": [
    {
     "data": {
      "text/plain": [
       "(877, 52)"
      ]
     },
     "execution_count": 33,
     "metadata": {},
     "output_type": "execute_result"
    }
   ],
   "source": [
    "ames.shape"
   ]
  },
  {
   "cell_type": "code",
   "execution_count": 34,
   "id": "c8429875",
   "metadata": {},
   "outputs": [],
   "source": [
    "# Commenting out as I did not drop these for the Production Model\n",
    "# Another round of dropping columns after running the Lasso Model\n",
    "\n",
    "# ames = ames.drop(['Bsmt Unf SF','Alley', 'Lot Shape', 'Land Contour', 'Lot Config', 'Land Slope','Condition 1',\n",
    "#                  'House Style','Exter Qual','Foundation', 'Bsmt Qual', 'BsmtFin Type 1', 'BsmtFin Type 2', \n",
    "#                   'Garage Type','Garage Finish'],axis=1)\n",
    "# ames.shape"
   ]
  },
  {
   "cell_type": "markdown",
   "id": "c32b00d2",
   "metadata": {},
   "source": [
    "### Dummifying Categorical Features\n"
   ]
  },
  {
   "cell_type": "code",
   "execution_count": 35,
   "id": "069190a2",
   "metadata": {},
   "outputs": [
    {
     "data": {
      "text/plain": [
       "Index(['Alley', 'Lot Shape', 'Land Contour', 'Lot Config', 'Land Slope',\n",
       "       'Neighborhood', 'Condition 1', 'Bldg Type', 'House Style', 'Roof Style',\n",
       "       'Exter Qual', 'Exter Cond', 'Foundation', 'Bsmt Qual', 'Bsmt Exposure',\n",
       "       'BsmtFin Type 1', 'BsmtFin Type 2', 'Central Air', 'Kitchen Qual',\n",
       "       'Fireplace Qu', 'Garage Type', 'Garage Finish', 'Garage Cond',\n",
       "       'Paved Drive', 'Fence'],\n",
       "      dtype='object')"
      ]
     },
     "execution_count": 35,
     "metadata": {},
     "output_type": "execute_result"
    }
   ],
   "source": [
    "#recalling the categorical df to make sure the edits we made to the ames df carry over\n",
    "categorical_df =ames.select_dtypes(include=['object'])\n",
    "categorical_df.columns"
   ]
  },
  {
   "cell_type": "code",
   "execution_count": 36,
   "id": "eda86360",
   "metadata": {},
   "outputs": [
    {
     "data": {
      "text/plain": [
       "(877, 52)"
      ]
     },
     "execution_count": 36,
     "metadata": {},
     "output_type": "execute_result"
    }
   ],
   "source": [
    "ames.shape"
   ]
  },
  {
   "cell_type": "code",
   "execution_count": 37,
   "id": "e34f0735",
   "metadata": {},
   "outputs": [],
   "source": [
    " ames = pd.get_dummies(ames, columns=categorical_df.columns)"
   ]
  },
  {
   "cell_type": "code",
   "execution_count": 38,
   "id": "f2956e6a",
   "metadata": {},
   "outputs": [
    {
     "data": {
      "text/plain": [
       "(877, 177)"
      ]
     },
     "execution_count": 38,
     "metadata": {},
     "output_type": "execute_result"
    }
   ],
   "source": [
    "ames.shape"
   ]
  },
  {
   "cell_type": "markdown",
   "id": "27a94179",
   "metadata": {},
   "source": [
    "878 Rows expected by Kaggle\n",
    "\n",
    "177 Columns is what we should have - 1 less than the training dataset with 178"
   ]
  },
  {
   "cell_type": "markdown",
   "id": "c248dcac",
   "metadata": {},
   "source": [
    "## Final Cleaning"
   ]
  },
  {
   "cell_type": "markdown",
   "id": "3111b5f8",
   "metadata": {},
   "source": [
    "### Clean up column names."
   ]
  },
  {
   "cell_type": "code",
   "execution_count": 39,
   "id": "e0b4f1c3",
   "metadata": {
    "scrolled": true
   },
   "outputs": [
    {
     "data": {
      "text/plain": [
       "Index(['id', 'ms_subclass', 'lot_frontage', 'lot_area', 'overall_qual',\n",
       "       'overall_cond', 'year_remod/add', 'bsmtfin_sf_1', 'bsmtfin_sf_2',\n",
       "       'bsmt_unf_sf',\n",
       "       ...\n",
       "       'garage_cond_po', 'garage_cond_ta', 'paved_drive_n', 'paved_drive_p',\n",
       "       'paved_drive_y', 'fence_gdprv', 'fence_gdwo', 'fence_mnprv',\n",
       "       'fence_mnww', 'fence_none'],\n",
       "      dtype='object', length=177)"
      ]
     },
     "execution_count": 39,
     "metadata": {},
     "output_type": "execute_result"
    }
   ],
   "source": [
    "# Convert all columns to lowercase and replace spaces in column names.\n",
    "ames.columns = ames.columns.str.lower().str.replace(' ', '_')\n",
    "ames.columns"
   ]
  },
  {
   "cell_type": "markdown",
   "id": "9dd8dad6",
   "metadata": {},
   "source": [
    "### Save your cleaned dataframe as csv file\n"
   ]
  },
  {
   "cell_type": "code",
   "execution_count": 40,
   "id": "8cf60380",
   "metadata": {},
   "outputs": [],
   "source": [
    "#export cleaned dataset to save\n",
    "ames.to_csv('./datasets/Ames_Test_Clean.csv', index = False)"
   ]
  }
 ],
 "metadata": {
  "kernelspec": {
   "display_name": "Python 3",
   "language": "python",
   "name": "python3"
  },
  "language_info": {
   "codemirror_mode": {
    "name": "ipython",
    "version": 3
   },
   "file_extension": ".py",
   "mimetype": "text/x-python",
   "name": "python",
   "nbconvert_exporter": "python",
   "pygments_lexer": "ipython3",
   "version": "3.8.8"
  }
 },
 "nbformat": 4,
 "nbformat_minor": 5
}
